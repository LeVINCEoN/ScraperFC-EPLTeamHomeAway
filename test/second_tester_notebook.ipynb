{
 "cells": [
  {
   "cell_type": "code",
   "execution_count": 49,
   "id": "84efcaf0",
   "metadata": {},
   "outputs": [],
   "source": [
    "import cloudscraper\n",
    "from bs4 import BeautifulSoup\n",
    "\n",
    "TRANSFERMARKT_ROOT = 'https://www.transfermarkt.us'"
   ]
  },
  {
   "cell_type": "code",
   "execution_count": 30,
   "id": "0ef1e920",
   "metadata": {},
   "outputs": [],
   "source": [
    "scraper = cloudscraper.CloudScraper()"
   ]
  },
  {
   "cell_type": "code",
   "execution_count": 40,
   "id": "24dae353",
   "metadata": {},
   "outputs": [
    {
     "name": "stdout",
     "output_type": "stream",
     "text": [
      "{'2024': '2023', '2023': '2022', '2022': '2021', '2021': '2020', '2020': '2019', '2019': '2018', '2018': '2017', '2017': '2016', '2016': '2015', '2015': '2014', '2014': '2013', '2013': '2012', '2012': '2011', '2011': '2010', '2010': '2009', '2009': '2008', '2008': '2007', '2007': '2006', '2006': '2005', '2005': '2004', '2004': '2003', '2003': '2002', '2002': '2001', '2001': '2000', '2000': '1999', '1999': '1998', '1998': '1997', '1997': '1996', '1996': '1995'}\n"
     ]
    }
   ],
   "source": [
    "# Get valid seasons\n",
    "# url = 'https://www.transfermarkt.us/ligue-1/startseite/wettbewerb/FR1'\n",
    "url = 'https://www.transfermarkt.us/major-league-soccer/startseite/wettbewerb/MLS1'\n",
    "\n",
    "soup = BeautifulSoup(scraper.get(url).content, 'html.parser')\n",
    "valid_seasons = dict([(x.text, x['value']) \n",
    "                      for x in soup.find('select', {'name': 'saison_id'}).find_all('option')])\n",
    "print(valid_seasons)"
   ]
  },
  {
   "cell_type": "code",
   "execution_count": 52,
   "id": "779d104d",
   "metadata": {},
   "outputs": [
    {
     "name": "stdout",
     "output_type": "stream",
     "text": [
      "['https://www.transfermarkt.us/sporting-kansas-city/startseite/verein/4284/saison_id/2004', 'https://www.transfermarkt.us/new-york-red-bulls/startseite/verein/623/saison_id/2004', 'https://www.transfermarkt.us/new-england-revolution/startseite/verein/626/saison_id/2004', 'https://www.transfermarkt.us/columbus-crew-sc/startseite/verein/813/saison_id/2004', 'https://www.transfermarkt.us/d-c-united/startseite/verein/2440/saison_id/2004', 'https://www.transfermarkt.us/chicago-fire-fc/startseite/verein/432/saison_id/2004', 'https://www.transfermarkt.us/cd-chivas-usa/startseite/verein/6642/saison_id/2004', 'https://www.transfermarkt.us/real-salt-lake-city/startseite/verein/6643/saison_id/2004', 'https://www.transfermarkt.us/fc-dallas/startseite/verein/8816/saison_id/2004', 'https://www.transfermarkt.us/los-angeles-galaxy/startseite/verein/1061/saison_id/2004', 'https://www.transfermarkt.us/colorado-rapids/startseite/verein/1247/saison_id/2004', 'https://www.transfermarkt.us/san-jose-earthquakes/startseite/verein/218/saison_id/2004']\n"
     ]
    }
   ],
   "source": [
    "# Get club links\n",
    "year = '2005'\n",
    "\n",
    "soup = BeautifulSoup(scraper.get(f'{url}/plus/?saison_id={valid_seasons[year]}').content, \n",
    "                     'html.parser')\n",
    "club_els = (soup.find('table', {'class': 'items'})\n",
    "                .find_all('td', {'class': 'hauptlink no-border-links'}))\n",
    "club_links = [TRANSFERMARKT_ROOT + x.find('a')['href'] for x in club_els]\n",
    "print(club_links)"
   ]
  },
  {
   "cell_type": "code",
   "execution_count": 53,
   "id": "2bcd55f2",
   "metadata": {},
   "outputs": [
    {
     "name": "stdout",
     "output_type": "stream",
     "text": [
      "['https://www.transfermarkt.us/thomas-kaminski/profil/spieler/77757', 'https://www.transfermarkt.us/thomas-kaminski/marktwertverlauf/spieler/77757', 'https://www.transfermarkt.us/tim-krul/profil/spieler/33027', 'https://www.transfermarkt.us/tim-krul/marktwertverlauf/spieler/33027', 'https://www.transfermarkt.us/jack-walton/profil/spieler/368629', 'https://www.transfermarkt.us/jack-walton/marktwertverlauf/spieler/368629', 'https://www.transfermarkt.us/james-shea/profil/spieler/91340', 'https://www.transfermarkt.us/james-shea/marktwertverlauf/spieler/91340', 'https://www.transfermarkt.us/teden-mengi/profil/spieler/548470', 'https://www.transfermarkt.us/teden-mengi/marktwertverlauf/spieler/548470', 'https://www.transfermarkt.us/tom-lockyer/profil/spieler/207742', 'https://www.transfermarkt.us/tom-lockyer/marktwertverlauf/spieler/207742', 'https://www.transfermarkt.us/gabriel-osho/profil/spieler/364409', 'https://www.transfermarkt.us/gabriel-osho/marktwertverlauf/spieler/364409', 'https://www.transfermarkt.us/mads-andersen/profil/spieler/407021', 'https://www.transfermarkt.us/mads-andersen/marktwertverlauf/spieler/407021', 'https://www.transfermarkt.us/reece-burke/profil/spieler/264220', 'https://www.transfermarkt.us/reece-burke/marktwertverlauf/spieler/264220', 'https://www.transfermarkt.us/amarii-bell/profil/spieler/278166', 'https://www.transfermarkt.us/amarii-bell/marktwertverlauf/spieler/278166', 'https://www.transfermarkt.us/dan-potts/profil/spieler/207037', 'https://www.transfermarkt.us/dan-potts/marktwertverlauf/spieler/207037', 'https://www.transfermarkt.us/issa-kabore/profil/spieler/649452', 'https://www.transfermarkt.us/issa-kabore/marktwertverlauf/spieler/649452', 'https://www.transfermarkt.us/daiki-hashioka/profil/spieler/387191', 'https://www.transfermarkt.us/daiki-hashioka/marktwertverlauf/spieler/387191', 'https://www.transfermarkt.us/marvelous-nakamba/profil/spieler/324882', 'https://www.transfermarkt.us/marvelous-nakamba/marktwertverlauf/spieler/324882', 'https://www.transfermarkt.us/pelly-ruddock-mpanzu/profil/spieler/244338', 'https://www.transfermarkt.us/pelly-ruddock-mpanzu/marktwertverlauf/spieler/244338', 'https://www.transfermarkt.us/albert-sambi-lokonga/profil/spieler/381967', 'https://www.transfermarkt.us/albert-sambi-lokonga/marktwertverlauf/spieler/381967', 'https://www.transfermarkt.us/ross-barkley/profil/spieler/131978', 'https://www.transfermarkt.us/ross-barkley/marktwertverlauf/spieler/131978', 'https://www.transfermarkt.us/jordan-clark/profil/spieler/184129', 'https://www.transfermarkt.us/jordan-clark/marktwertverlauf/spieler/184129', 'https://www.transfermarkt.us/luke-berry/profil/spieler/125685', 'https://www.transfermarkt.us/luke-berry/marktwertverlauf/spieler/125685', 'https://www.transfermarkt.us/elliot-thorpe/profil/spieler/496661', 'https://www.transfermarkt.us/elliot-thorpe/marktwertverlauf/spieler/496661', 'https://www.transfermarkt.us/alfie-doughty/profil/spieler/608175', 'https://www.transfermarkt.us/alfie-doughty/marktwertverlauf/spieler/608175', 'https://www.transfermarkt.us/fred-onyedinma/profil/spieler/305274', 'https://www.transfermarkt.us/fred-onyedinma/marktwertverlauf/spieler/305274', 'https://www.transfermarkt.us/chiedozie-ogbene/profil/spieler/392591', 'https://www.transfermarkt.us/chiedozie-ogbene/marktwertverlauf/spieler/392591', 'https://www.transfermarkt.us/tahith-chong/profil/spieler/344830', 'https://www.transfermarkt.us/tahith-chong/marktwertverlauf/spieler/344830', 'https://www.transfermarkt.us/andros-townsend/profil/spieler/61842', 'https://www.transfermarkt.us/andros-townsend/marktwertverlauf/spieler/61842', 'https://www.transfermarkt.us/carlton-morris/profil/spieler/246963', 'https://www.transfermarkt.us/carlton-morris/marktwertverlauf/spieler/246963', 'https://www.transfermarkt.us/elijah-adebayo/profil/spieler/319900', 'https://www.transfermarkt.us/elijah-adebayo/marktwertverlauf/spieler/319900', 'https://www.transfermarkt.us/jacob-brown/profil/spieler/469958', 'https://www.transfermarkt.us/jacob-brown/marktwertverlauf/spieler/469958', 'https://www.transfermarkt.us/cauley-woodrow/profil/spieler/169801', 'https://www.transfermarkt.us/cauley-woodrow/marktwertverlauf/spieler/169801']\n"
     ]
    }
   ],
   "source": [
    "# Get player links from club link\n",
    "club_link = 'https://www.transfermarkt.us/luton-town/startseite/verein/1031/saison_id/2023'\n",
    "soup = BeautifulSoup(scraper.get(club_link).content, 'html.parser')\n",
    "player_els = soup.find('table', {'class': 'items'}).find_all('td', {'class': 'hauptlink'})\n",
    "player_links = [TRANSFERMARKT_ROOT + x.find('a')['href'] for x in player_els]\n",
    "print(player_links)"
   ]
  }
 ],
 "metadata": {
  "kernelspec": {
   "display_name": "Python 3 (ipykernel)",
   "language": "python",
   "name": "python3"
  },
  "language_info": {
   "codemirror_mode": {
    "name": "ipython",
    "version": 3
   },
   "file_extension": ".py",
   "mimetype": "text/x-python",
   "name": "python",
   "nbconvert_exporter": "python",
   "pygments_lexer": "ipython3",
   "version": "3.12.0"
  },
  "vscode": {
   "interpreter": {
    "hash": "cc273e64c6c48e9881aab795f8d0e622d86c0ebe91aa99d17d2821087e5340fb"
   }
  }
 },
 "nbformat": 4,
 "nbformat_minor": 5
}
