{
 "cells": [
  {
   "cell_type": "code",
   "execution_count": 1,
   "metadata": {},
   "outputs": [],
   "source": [
    "%load_ext autoreload\n",
    "%autoreload 2"
   ]
  },
  {
   "cell_type": "code",
   "execution_count": 2,
   "metadata": {},
   "outputs": [],
   "source": [
    "import sys\n",
    "sys.path.append('../src')\n",
    "import ScraperFC as sfc"
   ]
  },
  {
   "cell_type": "code",
   "execution_count": 147,
   "metadata": {},
   "outputs": [],
   "source": [
    "import requests\n",
    "import json\n",
    "import numpy as np\n",
    "import warnings\n",
    "import pandas as pd\n",
    "from ScraperFC.Sofascore import comps, API_PREFIX, _botasaurus_get\n",
    "from ScraperFC.scraperfc_exceptions import InvalidYearException\n",
    "from tqdm import tqdm\n",
    "ss = sfc.Sofascore()\n",
    "\n",
    "year = '23/24'\n",
    "league = 'Bundesliga'\n",
    "match_url = 'https://www.sofascore.com/fc-bayern-munchen-manchester-united/Ksxdb#id:11605966'\n",
    "\n",
    "valid_seasons = ss.get_valid_seasons(league)\n",
    "match_dicts = ss.get_match_dicts(year, league)\n",
    "match_id = ss.get_match_id_from_url(match_url)\n",
    "match_dict = ss.get_match_dict_from_url(match_url)\n",
    "player_ids = ss.get_player_ids_from_url(match_url)\n",
    "match_momentum = ss.scrape_match_momentum_from_url(match_url)\n",
    "positions = ss.get_positions(['Goalkeepers', 'Defenders', 'Midfielders', 'Forwards'])\n",
    "player_stats = ss.scrape_player_stats(year, league)"
   ]
  }
 ],
 "metadata": {
  "kernelspec": {
   "display_name": "Python 3 (ipykernel)",
   "language": "python",
   "name": "python3"
  },
  "language_info": {
   "codemirror_mode": {
    "name": "ipython",
    "version": 3
   },
   "file_extension": ".py",
   "mimetype": "text/x-python",
   "name": "python",
   "nbconvert_exporter": "python",
   "pygments_lexer": "ipython3",
   "version": "3.12.0"
  },
  "vscode": {
   "interpreter": {
    "hash": "585a938ec471c889bf0cce0aed741a99eaf47ca09c0fa8393793bc5bfe77ba11"
   }
  }
 },
 "nbformat": 4,
 "nbformat_minor": 4
}
