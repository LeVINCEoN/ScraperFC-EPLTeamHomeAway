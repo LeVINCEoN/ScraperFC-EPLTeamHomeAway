{
 "cells": [
  {
   "cell_type": "code",
   "execution_count": 2,
   "metadata": {},
   "outputs": [],
   "source": [
    "%load_ext autoreload\n",
    "%autoreload 2"
   ]
  },
  {
   "cell_type": "code",
   "execution_count": 3,
   "metadata": {},
   "outputs": [],
   "source": [
    "import sys\n",
    "sys.path.append('../src')\n",
    "import ScraperFC as sfc\n",
    "import traceback"
   ]
  },
  {
   "cell_type": "code",
   "execution_count": 69,
   "metadata": {},
   "outputs": [],
   "source": [
    "from io import StringIO"
   ]
  },
  {
   "cell_type": "code",
   "execution_count": 92,
   "metadata": {},
   "outputs": [
    {
     "name": "stderr",
     "output_type": "stream",
     "text": [
      "2021-2022 Jupiler Pro League matches:   2%|▏         | 8/330 [01:09<46:43,  8.71s/it]"
     ]
    }
   ],
   "source": [
    "import requests\n",
    "from bs4 import BeautifulSoup\n",
    "import random\n",
    "import numpy as np\n",
    "from scraperfc_exceptions import InvalidYearException\n",
    "from ScraperFC import FBRef\n",
    "from ScraperFC.FBRef import comps\n",
    "from tqdm import tqdm\n",
    "import pandas as pd\n",
    "import re\n",
    "from io import StringIO\n",
    "import dateutil\n",
    "\n",
    "year = '2021-2022'\n",
    "league = 'Jupiler Pro League'\n",
    "\n",
    "fbref = FBRef()\n",
    "# season_link = fbref.get_season_link(year, league)\n",
    "# print(season_link)\n",
    "# match_links = fbref.get_match_links(year, league)\n",
    "# print(len(match_links))\n",
    "matches = fbref.scrape_matches(year, league)"
   ]
  },
  {
   "cell_type": "code",
   "execution_count": null,
   "metadata": {},
   "outputs": [
    {
     "name": "stdout",
     "output_type": "stream",
     "text": [
      "https://fbref.com/en/matches/e797ff3e/Charleroi-Antwerp-August-13-2021-Belgian-First-Division-A\n"
     ]
    }
   ],
   "source": [
    "assert type(matches) is pd.DataFrame, 'matches must be a dataframe'\n",
    "assert matches.shape[0] > 0, 'matches must have more than 1 row'"
   ]
  }
 ],
 "metadata": {
  "kernelspec": {
   "display_name": "Python 3 (ipykernel)",
   "language": "python",
   "name": "python3"
  },
  "language_info": {
   "codemirror_mode": {
    "name": "ipython",
    "version": 3
   },
   "file_extension": ".py",
   "mimetype": "text/x-python",
   "name": "python",
   "nbconvert_exporter": "python",
   "pygments_lexer": "ipython3",
   "version": "undefined.undefined.undefined"
  },
  "vscode": {
   "interpreter": {
    "hash": "585a938ec471c889bf0cce0aed741a99eaf47ca09c0fa8393793bc5bfe77ba11"
   }
  }
 },
 "nbformat": 4,
 "nbformat_minor": 4
}
