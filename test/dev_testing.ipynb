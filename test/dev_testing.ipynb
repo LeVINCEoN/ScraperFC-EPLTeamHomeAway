{
 "cells": [
  {
   "cell_type": "code",
   "execution_count": 54,
   "metadata": {},
   "outputs": [
    {
     "name": "stdout",
     "output_type": "stream",
     "text": [
      "The autoreload extension is already loaded. To reload it, use:\n",
      "  %reload_ext autoreload\n"
     ]
    }
   ],
   "source": [
    "%load_ext autoreload\n",
    "%autoreload 2"
   ]
  },
  {
   "cell_type": "code",
   "execution_count": 55,
   "metadata": {},
   "outputs": [],
   "source": [
    "import sys\n",
    "sys.path.append('../src')\n",
    "import ScraperFC as sfc"
   ]
  },
  {
   "cell_type": "code",
   "execution_count": 139,
   "metadata": {},
   "outputs": [],
   "source": [
    "from ScraperFC.Transfermarkt import comps\n",
    "import random\n",
    "import pandas as pd\n",
    "from tqdm import tqdm"
   ]
  },
  {
   "cell_type": "code",
   "execution_count": 142,
   "metadata": {},
   "outputs": [
    {
     "name": "stderr",
     "output_type": "stream",
     "text": [
      "  0%|          | 0/21 [00:00<?, ?it/s]"
     ]
    },
    {
     "name": "stdout",
     "output_type": "stream",
     "text": [
      "17/18 EPL\n"
     ]
    },
    {
     "name": "stderr",
     "output_type": "stream",
     "text": [
      "Gathering player links: 100%|██████████| 20/20 [00:44<00:00,  2.22s/it]\n",
      "https://www.transfermarkt.us/jack-simpson/profil/spieler/419930: 100%|██████████| 1355/1355 [16:15<00:00,  1.39it/s]\n",
      "  5%|▍         | 1/21 [17:09<5:43:11, 1029.59s/it]"
     ]
    },
    {
     "name": "stdout",
     "output_type": "stream",
     "text": [
      "20/21 EFL Championship\n"
     ]
    },
    {
     "name": "stderr",
     "output_type": "stream",
     "text": [
      "Gathering player links: 100%|██████████| 24/24 [00:45<00:00,  1.92s/it]\n",
      "https://www.transfermarkt.us/jack-simpson/profil/spieler/419930: 100%|██████████| 1927/1927 [22:33<00:00,  1.42it/s]\n",
      " 10%|▉         | 2/21 [40:40<6:37:07, 1254.08s/it]"
     ]
    },
    {
     "name": "stdout",
     "output_type": "stream",
     "text": [
      "13/14 EFL1\n"
     ]
    },
    {
     "name": "stderr",
     "output_type": "stream",
     "text": [
      "Gathering player links: 100%|██████████| 24/24 [00:46<00:00,  1.92s/it]\n",
      "https://www.transfermarkt.us/michael-kamau/profil/spieler/146846:  66%|██████▌   | 1054/1594 [12:05<06:11,  1.45it/s]\n",
      " 10%|▉         | 2/21 [53:43<8:30:18, 1611.51s/it]\n"
     ]
    },
    {
     "ename": "AttributeError",
     "evalue": "'NoneType' object has no attribute 'getText'",
     "output_type": "error",
     "traceback": [
      "\u001b[1;31m---------------------------------------------------------------------------\u001b[0m",
      "\u001b[1;31mAttributeError\u001b[0m                            Traceback (most recent call last)",
      "Cell \u001b[1;32mIn[142], line 6\u001b[0m\n\u001b[0;32m      4\u001b[0m year \u001b[38;5;241m=\u001b[39m random\u001b[38;5;241m.\u001b[39msample(\u001b[38;5;28mlist\u001b[39m(valid_years\u001b[38;5;241m.\u001b[39mkeys()), \u001b[38;5;241m1\u001b[39m)[\u001b[38;5;241m0\u001b[39m]\n\u001b[0;32m      5\u001b[0m \u001b[38;5;28mprint\u001b[39m(year, league)\n\u001b[1;32m----> 6\u001b[0m players \u001b[38;5;241m=\u001b[39m \u001b[43mtm\u001b[49m\u001b[38;5;241;43m.\u001b[39;49m\u001b[43mscrape_players\u001b[49m\u001b[43m(\u001b[49m\u001b[43myear\u001b[49m\u001b[43m,\u001b[49m\u001b[43m \u001b[49m\u001b[43mleague\u001b[49m\u001b[43m)\u001b[49m\n\u001b[0;32m      7\u001b[0m \u001b[38;5;28;01massert\u001b[39;00m \u001b[38;5;28mtype\u001b[39m(players) \u001b[38;5;129;01mis\u001b[39;00m pd\u001b[38;5;241m.\u001b[39mDataFrame\n\u001b[0;32m      8\u001b[0m \u001b[38;5;28;01massert\u001b[39;00m players\u001b[38;5;241m.\u001b[39mshape[\u001b[38;5;241m0\u001b[39m] \u001b[38;5;241m>\u001b[39m \u001b[38;5;241m0\u001b[39m\n",
      "File \u001b[1;32mc:\\Users\\osmou\\Documents\\GitHub\\ScraperFC\\test\\../src\\ScraperFC\\Transfermarkt.py:250\u001b[0m, in \u001b[0;36mTransfermarkt.scrape_players\u001b[1;34m(self, year, league)\u001b[0m\n\u001b[0;32m    248\u001b[0m \u001b[38;5;28;01mfor\u001b[39;00m player_link \u001b[38;5;129;01min\u001b[39;00m \u001b[38;5;28miter\u001b[39m:\n\u001b[0;32m    249\u001b[0m     \u001b[38;5;28miter\u001b[39m\u001b[38;5;241m.\u001b[39mset_description(player_link)\n\u001b[1;32m--> 250\u001b[0m     player \u001b[38;5;241m=\u001b[39m \u001b[38;5;28;43mself\u001b[39;49m\u001b[38;5;241;43m.\u001b[39;49m\u001b[43mscrape_player\u001b[49m\u001b[43m(\u001b[49m\u001b[43mplayer_link\u001b[49m\u001b[43m)\u001b[49m\n\u001b[0;32m    251\u001b[0m     df \u001b[38;5;241m=\u001b[39m pd\u001b[38;5;241m.\u001b[39mconcat([df, player], axis\u001b[38;5;241m=\u001b[39m\u001b[38;5;241m0\u001b[39m, ignore_index\u001b[38;5;241m=\u001b[39m\u001b[38;5;28;01mTrue\u001b[39;00m)\n\u001b[0;32m    252\u001b[0m \u001b[38;5;28;01mreturn\u001b[39;00m df\n",
      "File \u001b[1;32mc:\\Users\\osmou\\Documents\\GitHub\\ScraperFC\\test\\../src\\ScraperFC\\Transfermarkt.py:277\u001b[0m, in \u001b[0;36mTransfermarkt.scrape_player\u001b[1;34m(self, player_link)\u001b[0m\n\u001b[0;32m    275\u001b[0m \u001b[38;5;66;03m# DOB and age\u001b[39;00m\n\u001b[0;32m    276\u001b[0m dob_el \u001b[38;5;241m=\u001b[39m soup\u001b[38;5;241m.\u001b[39mfind(\u001b[38;5;124m'\u001b[39m\u001b[38;5;124mspan\u001b[39m\u001b[38;5;124m'\u001b[39m, {\u001b[38;5;124m'\u001b[39m\u001b[38;5;124mitemprop\u001b[39m\u001b[38;5;124m'\u001b[39m: \u001b[38;5;124m'\u001b[39m\u001b[38;5;124mbirthDate\u001b[39m\u001b[38;5;124m'\u001b[39m})\n\u001b[1;32m--> 277\u001b[0m dob \u001b[38;5;241m=\u001b[39m \u001b[38;5;124m'\u001b[39m\u001b[38;5;124m \u001b[39m\u001b[38;5;124m'\u001b[39m\u001b[38;5;241m.\u001b[39mjoin(\u001b[43mdob_el\u001b[49m\u001b[38;5;241;43m.\u001b[39;49m\u001b[43mgetText\u001b[49m()\u001b[38;5;241m.\u001b[39mstrip()\u001b[38;5;241m.\u001b[39msplit(\u001b[38;5;124m'\u001b[39m\u001b[38;5;124m \u001b[39m\u001b[38;5;124m'\u001b[39m)[:\u001b[38;5;241m3\u001b[39m])\n\u001b[0;32m    278\u001b[0m age \u001b[38;5;241m=\u001b[39m \u001b[38;5;28mint\u001b[39m(dob_el\u001b[38;5;241m.\u001b[39mgetText()\u001b[38;5;241m.\u001b[39mstrip()\u001b[38;5;241m.\u001b[39msplit(\u001b[38;5;124m'\u001b[39m\u001b[38;5;124m \u001b[39m\u001b[38;5;124m'\u001b[39m)[\u001b[38;5;241m-\u001b[39m\u001b[38;5;241m1\u001b[39m]\u001b[38;5;241m.\u001b[39mreplace(\u001b[38;5;124m'\u001b[39m\u001b[38;5;124m(\u001b[39m\u001b[38;5;124m'\u001b[39m,\u001b[38;5;124m'\u001b[39m\u001b[38;5;124m'\u001b[39m)\u001b[38;5;241m.\u001b[39mreplace(\u001b[38;5;124m'\u001b[39m\u001b[38;5;124m)\u001b[39m\u001b[38;5;124m'\u001b[39m,\u001b[38;5;124m'\u001b[39m\u001b[38;5;124m'\u001b[39m))\n\u001b[0;32m    280\u001b[0m \u001b[38;5;66;03m# Height\u001b[39;00m\n",
      "\u001b[1;31mAttributeError\u001b[0m: 'NoneType' object has no attribute 'getText'"
     ]
    }
   ],
   "source": [
    "tm = sfc.Transfermarkt()\n",
    "for league in tqdm(comps.keys()):\n",
    "    valid_years = tm.get_valid_seasons(league)\n",
    "    year = random.sample(list(valid_years.keys()), 1)[0]\n",
    "    print(year, league)\n",
    "    players = tm.scrape_players(year, league)\n",
    "    assert type(players) is pd.DataFrame\n",
    "    assert players.shape[0] > 0\n",
    "    assert players.shape[1] > 0"
   ]
  },
  {
   "cell_type": "code",
   "execution_count": 152,
   "metadata": {},
   "outputs": [
    {
     "data": {
      "text/plain": [
       "{'23/24': '2023',\n",
       " '22/23': '2022',\n",
       " '21/22': '2021',\n",
       " '20/21': '2020',\n",
       " '19/20': '2019',\n",
       " '18/19': '2018',\n",
       " '17/18': '2017',\n",
       " '16/17': '2016',\n",
       " '15/16': '2015',\n",
       " '14/15': '2014',\n",
       " '13/14': '2013',\n",
       " '12/13': '2012',\n",
       " '11/12': '2011',\n",
       " '10/11': '2010',\n",
       " '09/10': '2009',\n",
       " '08/09': '2008',\n",
       " '07/08': '2007',\n",
       " '06/07': '2006',\n",
       " '05/06': '2005',\n",
       " '04/05': '2004',\n",
       " '03/04': '2003',\n",
       " '02/03': '2002',\n",
       " '01/02': '2001',\n",
       " '00/01': '2000',\n",
       " '99/00': '1999',\n",
       " '98/99': '1998',\n",
       " '97/98': '1997',\n",
       " '96/97': '1996',\n",
       " '95/96': '1995',\n",
       " '94/95': '1994',\n",
       " '93/94': '1993',\n",
       " '92/93': '1992',\n",
       " '91/92': '1991',\n",
       " '90/91': '1990',\n",
       " '89/90': '1989',\n",
       " '88/89': '1988',\n",
       " '87/88': '1987',\n",
       " '86/87': '1986',\n",
       " '85/86': '1985',\n",
       " '84/85': '1984',\n",
       " '83/84': '1983',\n",
       " '82/83': '1982',\n",
       " '81/82': '1981',\n",
       " '80/81': '1980',\n",
       " '79/80': '1979',\n",
       " '78/79': '1978',\n",
       " '77/78': '1977',\n",
       " '76/77': '1976',\n",
       " '75/76': '1975',\n",
       " '74/75': '1974',\n",
       " '73/74': '1973',\n",
       " '72/73': '1972',\n",
       " '71/72': '1971',\n",
       " '70/71': '1970',\n",
       " '69/70': '1969',\n",
       " '68/69': '1968',\n",
       " '67/68': '1967',\n",
       " '66/67': '1966',\n",
       " '65/66': '1965',\n",
       " '64/65': '1964',\n",
       " '63/64': '1963',\n",
       " '62/63': '1962',\n",
       " '61/62': '1961',\n",
       " '60/61': '1960',\n",
       " '59/60': '1959',\n",
       " '58/59': '1958',\n",
       " '57/58': '1957',\n",
       " '56/57': '1956',\n",
       " '55/56': '1955',\n",
       " '54/55': '1954',\n",
       " '53/54': '1953',\n",
       " '52/53': '1952',\n",
       " '51/52': '1951',\n",
       " '50/51': '1950',\n",
       " '49/50': '1949',\n",
       " '48/49': '1948',\n",
       " '47/48': '1947',\n",
       " '46/47': '1946',\n",
       " '45/46': '1945',\n",
       " '44/45': '1944',\n",
       " '43/44': '1943',\n",
       " '42/43': '1942',\n",
       " '41/42': '1941',\n",
       " '40/41': '1940',\n",
       " '39/40': '1939',\n",
       " '35/36': '1935',\n",
       " '34/35': '1934',\n",
       " '33/34': '1933',\n",
       " '32/33': '1932',\n",
       " '31/32': '1931',\n",
       " '30/31': '1930',\n",
       " '1929/30': '1929',\n",
       " '1928/29': '1928'}"
      ]
     },
     "execution_count": 152,
     "metadata": {},
     "output_type": "execute_result"
    }
   ],
   "source": [
    "tm.get_valid_seasons('La Liga')"
   ]
  }
 ],
 "metadata": {
  "kernelspec": {
   "display_name": "Python 3 (ipykernel)",
   "language": "python",
   "name": "python3"
  },
  "language_info": {
   "codemirror_mode": {
    "name": "ipython",
    "version": 3
   },
   "file_extension": ".py",
   "mimetype": "text/x-python",
   "name": "python",
   "nbconvert_exporter": "python",
   "pygments_lexer": "ipython3",
   "version": "3.12.0"
  },
  "vscode": {
   "interpreter": {
    "hash": "585a938ec471c889bf0cce0aed741a99eaf47ca09c0fa8393793bc5bfe77ba11"
   }
  }
 },
 "nbformat": 4,
 "nbformat_minor": 4
}
