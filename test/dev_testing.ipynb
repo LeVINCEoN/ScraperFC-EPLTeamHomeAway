{
 "cells": [
  {
   "cell_type": "code",
   "execution_count": 108,
   "metadata": {},
   "outputs": [
    {
     "name": "stdout",
     "output_type": "stream",
     "text": [
      "The autoreload extension is already loaded. To reload it, use:\n",
      "  %reload_ext autoreload\n"
     ]
    }
   ],
   "source": [
    "%load_ext autoreload\n",
    "%autoreload 2"
   ]
  },
  {
   "cell_type": "code",
   "execution_count": 109,
   "metadata": {},
   "outputs": [],
   "source": [
    "import sys\n",
    "sys.path.append('../src')\n",
    "import ScraperFC as sfc\n",
    "\n",
    "import pandas as pd\n",
    "from tqdm import tqdm\n",
    "import requests\n",
    "from io import StringIO\n",
    "from datetime import datetime\n",
    "import numpy as np\n",
    "from bs4 import BeautifulSoup\n",
    "import time\n",
    "import re\n",
    "import random\n",
    "from cloudscraper import CloudScraper"
   ]
  },
  {
   "cell_type": "code",
   "execution_count": 121,
   "metadata": {},
   "outputs": [
    {
     "name": "stderr",
     "output_type": "stream",
     "text": [
      "  0%|          | 0/29 [00:00<?, ?it/s]"
     ]
    },
    {
     "name": "stdout",
     "output_type": "stream",
     "text": [
      "1888-1889 EPL\n"
     ]
    },
    {
     "name": "stderr",
     "output_type": "stream",
     "text": [
      "  3%|▎         | 1/29 [00:33<15:41, 33.64s/it]"
     ]
    },
    {
     "name": "stdout",
     "output_type": "stream",
     "text": [
      "1995-1996 Ligue 1\n"
     ]
    },
    {
     "name": "stderr",
     "output_type": "stream",
     "text": [
      "  7%|▋         | 2/29 [01:11<16:22, 36.38s/it]"
     ]
    },
    {
     "name": "stdout",
     "output_type": "stream",
     "text": [
      "1988-1989 Bundesliga\n"
     ]
    },
    {
     "name": "stderr",
     "output_type": "stream",
     "text": [
      " 10%|█         | 3/29 [01:50<16:15, 37.51s/it]"
     ]
    },
    {
     "name": "stdout",
     "output_type": "stream",
     "text": [
      "1988-1989 Serie A\n"
     ]
    },
    {
     "name": "stderr",
     "output_type": "stream",
     "text": [
      " 14%|█▍        | 4/29 [02:25<15:13, 36.54s/it]"
     ]
    },
    {
     "name": "stdout",
     "output_type": "stream",
     "text": [
      "1988-1989 La Liga\n"
     ]
    },
    {
     "name": "stderr",
     "output_type": "stream",
     "text": [
      " 17%|█▋        | 5/29 [03:00<14:21, 35.91s/it]"
     ]
    },
    {
     "name": "stdout",
     "output_type": "stream",
     "text": [
      "1996 MLS\n"
     ]
    },
    {
     "name": "stderr",
     "output_type": "stream",
     "text": [
      " 21%|██        | 6/29 [03:37<13:53, 36.24s/it]"
     ]
    },
    {
     "name": "stdout",
     "output_type": "stream",
     "text": [
      "2014 Brazilian Serie A\n"
     ]
    },
    {
     "name": "stderr",
     "output_type": "stream",
     "text": [
      " 24%|██▍       | 7/29 [04:15<13:29, 36.79s/it]"
     ]
    },
    {
     "name": "stdout",
     "output_type": "stream",
     "text": [
      "2000-2001 Eredivisie\n"
     ]
    },
    {
     "name": "stderr",
     "output_type": "stream",
     "text": [
      " 28%|██▊       | 8/29 [04:50<12:44, 36.38s/it]"
     ]
    },
    {
     "name": "stdout",
     "output_type": "stream",
     "text": [
      "2003-2004 Liga MX\n"
     ]
    },
    {
     "name": "stderr",
     "output_type": "stream",
     "text": [
      " 28%|██▊       | 8/29 [05:25<14:15, 40.73s/it]\n"
     ]
    },
    {
     "ename": "NoMatchLinksException",
     "evalue": "No match score elements found for 2003-2004 Liga MX at https://fbref.com//en/comps/31/2003-2004/schedule/2003-2004-Liga-MX-Scores-and-Fixtures",
     "output_type": "error",
     "traceback": [
      "\u001b[1;31m---------------------------------------------------------------------------\u001b[0m",
      "\u001b[1;31mNoMatchLinksException\u001b[0m                     Traceback (most recent call last)",
      "Cell \u001b[1;32mIn[121], line 40\u001b[0m\n\u001b[0;32m     38\u001b[0m \u001b[38;5;28mprint\u001b[39m(year, league)\n\u001b[0;32m     39\u001b[0m \u001b[38;5;28;01mif\u001b[39;00m league \u001b[38;5;129;01mnot\u001b[39;00m \u001b[38;5;129;01min\u001b[39;00m [\u001b[38;5;124m\"\u001b[39m\u001b[38;5;124mBig 5 combined\u001b[39m\u001b[38;5;124m\"\u001b[39m]:\n\u001b[1;32m---> 40\u001b[0m     match_links \u001b[38;5;241m=\u001b[39m \u001b[43mfb\u001b[49m\u001b[38;5;241;43m.\u001b[39;49m\u001b[43mget_match_links\u001b[49m\u001b[43m(\u001b[49m\u001b[43myear\u001b[49m\u001b[43m,\u001b[49m\u001b[43m \u001b[49m\u001b[43mleague\u001b[49m\u001b[43m)\u001b[49m\n",
      "File \u001b[1;32mc:\\Users\\osmou\\Documents\\GitHub\\ScraperFC\\test\\../src\\ScraperFC\\fbref.py:305\u001b[0m, in \u001b[0;36mFBref.get_match_links\u001b[1;34m(self, year, league)\u001b[0m\n\u001b[0;32m    303\u001b[0m possible_els \u001b[38;5;241m=\u001b[39m soup\u001b[38;5;241m.\u001b[39mfind_all(\u001b[38;5;124m'\u001b[39m\u001b[38;5;124mtd\u001b[39m\u001b[38;5;124m'\u001b[39m, {\u001b[38;5;124m'\u001b[39m\u001b[38;5;124mclass\u001b[39m\u001b[38;5;124m'\u001b[39m: \u001b[38;5;28;01mTrue\u001b[39;00m, \u001b[38;5;124m'\u001b[39m\u001b[38;5;124mdata-stat\u001b[39m\u001b[38;5;124m'\u001b[39m: \u001b[38;5;28;01mTrue\u001b[39;00m})\n\u001b[0;32m    304\u001b[0m \u001b[38;5;28;01mif\u001b[39;00m \u001b[38;5;28mlen\u001b[39m(possible_els) \u001b[38;5;241m==\u001b[39m \u001b[38;5;241m0\u001b[39m:\n\u001b[1;32m--> 305\u001b[0m     \u001b[38;5;28;01mraise\u001b[39;00m NoMatchLinksException(year, league, fixtures_url)\n\u001b[0;32m    306\u001b[0m \u001b[38;5;28;01mfor\u001b[39;00m x \u001b[38;5;129;01min\u001b[39;00m possible_els:\n\u001b[0;32m    307\u001b[0m     a \u001b[38;5;241m=\u001b[39m x\u001b[38;5;241m.\u001b[39mfind(\u001b[38;5;124m'\u001b[39m\u001b[38;5;124ma\u001b[39m\u001b[38;5;124m'\u001b[39m)\n",
      "\u001b[1;31mNoMatchLinksException\u001b[0m: No match score elements found for 2003-2004 Liga MX at https://fbref.com//en/comps/31/2003-2004/schedule/2003-2004-Liga-MX-Scores-and-Fixtures"
     ]
    }
   ],
   "source": [
    "from ScraperFC.fbref import comps\n",
    "fb = sfc.FBref()\n",
    "for league in tqdm([\n",
    "        # 'Copa Libertadores', 'Champions League', 'Europa League', 'Europa Conference League',\n",
    "        # 'World Cup', 'Copa America', 'Euros', 'Big 5 combined', 'EPL', 'Ligue 1', 'Bundesliga',\n",
    "        'Serie A',\n",
    "        'La Liga',\n",
    "        'MLS',\n",
    "        'Brazilian Serie A',\n",
    "        'Eredivisie',\n",
    "        'Liga MX',\n",
    "        'Primeira Liga',\n",
    "        'Belgian Pro League',\n",
    "        'Argentina Liga Profesional',\n",
    "        'EFL Championship',\n",
    "        'La Liga 2',\n",
    "        '2. Bundesliga',\n",
    "        'Ligue 2',\n",
    "        'Serie B',\n",
    "        'Womens Champions League',\n",
    "        'Womens World Cup',\n",
    "        'Womens Euros',\n",
    "        'NWSL',\n",
    "        'A-League Women',\n",
    "        'WSL',\n",
    "        'D1 Feminine',\n",
    "        'Womens Bundesliga',\n",
    "        'Womens Serie A',\n",
    "        'Liga F',\n",
    "        'NWSL Challenge Cup',\n",
    "        'NWSL Fall Series'\n",
    " ]):\n",
    "    valid_years = fb.get_valid_seasons(league)\n",
    "    year = list(valid_years.keys())[-1]\n",
    "    print(year, league)\n",
    "    if league not in [\"Big 5 combined\"]:\n",
    "        match_links = fb.get_match_links(year, league)"
   ]
  },
  {
   "cell_type": "code",
   "execution_count": null,
   "metadata": {},
   "outputs": [],
   "source": []
  }
 ],
 "metadata": {
  "kernelspec": {
   "display_name": "Python 3 (ipykernel)",
   "language": "python",
   "name": "python3"
  },
  "language_info": {
   "codemirror_mode": {
    "name": "ipython",
    "version": 3
   },
   "file_extension": ".py",
   "mimetype": "text/x-python",
   "name": "python",
   "nbconvert_exporter": "python",
   "pygments_lexer": "ipython3",
   "version": "3.12.0"
  },
  "vscode": {
   "interpreter": {
    "hash": "585a938ec471c889bf0cce0aed741a99eaf47ca09c0fa8393793bc5bfe77ba11"
   }
  }
 },
 "nbformat": 4,
 "nbformat_minor": 4
}
